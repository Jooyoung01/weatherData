{
  "cells": [
    {
      "cell_type": "markdown",
      "metadata": {},
      "source": [
        "# NOAA Weather Data API"
      ]
    },
    {
      "cell_type": "code",
      "execution_count": null,
      "metadata": {
        "colab": {
          "base_uri": "https://localhost:8080/"
        },
        "id": "e4gVJhdN3IbG",
        "outputId": "1a32f575-efa7-4b61-ae21-1a2975e99ff5"
      },
      "outputs": [],
      "source": [
        "from google.colab import drive\n",
        "drive.mount('/content/drive')"
      ]
    },
    {
      "cell_type": "markdown",
      "metadata": {
        "id": "FIkkll0jAnZg"
      },
      "source": [
        "https://www.ncdc.noaa.gov/cdo-web/token"
      ]
    },
    {
      "cell_type": "markdown",
      "metadata": {
        "id": "g3aK0oV05lPT"
      },
      "source": [
        "https://www.ncdc.noaa.gov/cdo-web/webservices/v2"
      ]
    },
    {
      "cell_type": "code",
      "execution_count": 168,
      "metadata": {
        "id": "R958yLl1SMei"
      },
      "outputs": [],
      "source": [
        "folder_path = \"Path_to_save_CSV_files\""
      ]
    },
    {
      "cell_type": "code",
      "execution_count": 175,
      "metadata": {
        "colab": {
          "base_uri": "https://localhost:8080/"
        },
        "id": "GXxruAFy8rrw",
        "outputId": "285306ef-946c-4971-a529-b11f2669562a"
      },
      "outputs": [
        {
          "name": "stdout",
          "output_type": "stream",
          "text": [
            "Complete.\n"
          ]
        }
      ],
      "source": [
        "import requests\n",
        "import pandas as pd\n",
        "\n",
        "def calculate_monthly_averages_and_save(filename, output_filename):\n",
        "    df = pd.read_csv(filename, parse_dates=['date'], index_col='date')\n",
        "    monthly_avg = df.resample('M').mean()\n",
        "    monthly_avg.to_csv(output_filename)\n",
        "\n",
        "def fetch_and_save_noaa_data(api_key, station_id, start_date, end_date, data_types, filename):\n",
        "    url = \"https://www.ncdc.noaa.gov/cdo-web/api/v2/data\"\n",
        "    headers = {\"token\": api_key}\n",
        "    records = []\n",
        "\n",
        "    for data_type in data_types:\n",
        "        params = {\n",
        "            \"datasetid\": \"GHCND\",\n",
        "            \"stationid\": f\"GHCND:{station_id}\",\n",
        "            \"startdate\": start_date,\n",
        "            \"enddate\": end_date,\n",
        "            \"datatypeid\": data_type,\n",
        "            \"limit\": 1000,\n",
        "            \"units\": \"metric\"\n",
        "        }\n",
        "\n",
        "        response = requests.get(url, headers=headers, params=params)\n",
        "        data = response.json()\n",
        "\n",
        "        for item in data.get('results', []):\n",
        "            records.append({\n",
        "                \"date\": item['date'],\n",
        "                \"datatype\": item['datatype'],\n",
        "                \"value\": item['value']\n",
        "            })\n",
        "\n",
        "    df = pd.DataFrame(records)\n",
        "    df['date'] = pd.to_datetime(df['date'])\n",
        "    df_pivot = df.pivot(index='date', columns='datatype', values='value')\n",
        "    df_pivot.to_csv(filename)\n",
        "\n",
        "###################################\n",
        "api_key = \"YOUR_API_KEY\"  # API key\n",
        "# station_id = \"USW00023174\"  #  Los Angeles\n",
        "# location_name = \"LA\"\n",
        "\n",
        "station_id = \"USW00094728\"  # NewYork Central Park\n",
        "location_name = \"NY\"\n",
        "\n",
        "year = \"1990\"\n",
        "\n",
        "start_month = \"01\"\n",
        "start_month_day = \"01\"\n",
        "end_month = \"12\"\n",
        "end_month_day = \"31\"\n",
        "###################################\n",
        "start_date = f\"{year}-{start_month}-{start_month_day}\"\n",
        "end_date = f\"{year}-{end_month}-{end_month_day}\"\n",
        "data_types = [\"TMAX\", \"TMIN\", \"PRCP\", \"SNOW\", \"AWND\",\"HUMD\",\"PRES\"]\n",
        "filename = f\"{folder_path}{location_name}_weather_data_{year}.csv\"\n",
        "fetch_and_save_noaa_data(api_key, station_id, start_date, end_date, data_types, filename)\n",
        "output_filename = f\"{folder_path}{location_name}_monthly_averages_{year}.csv\"\n",
        "calculate_monthly_averages_and_save(filename, output_filename)\n",
        "print(\"Complete.\")"
      ]
    },
    {
      "cell_type": "markdown",
      "metadata": {
        "id": "8nBaKfZT9nHB"
      },
      "source": [
        "`data_types` Information(Please refer to the Web Services Documentation.)\n",
        "- **Maximum Temperature (TMAX)**: Daily highest temperature.\n",
        "- **Minimum Temperature (TMIN)**: Daily lowest temperature.\n",
        "- **Precipitation (PRCP)**: Daily amount of precipitation (rain, snow, etc.).\n",
        "- **Snowfall (SNOW)**: Daily snowfall amount.\n",
        "- **Snow Depth (SNWD)**: Daily snow depth.\n",
        "- **Average Wind Speed (AWND)**: Daily average wind speed.\n",
        "- **Maximum Wind Speed (WSF2)**: Maximum wind speed observed.\n",
        "- **Wind Direction (WDF2)**: Daily wind direction.\n",
        "- **Humidity (HUMD)**: Daily average relative humidity (this data may only be available for certain areas).\n",
        "- **Pressure (PRES)**: Daily average atmospheric pressure."
      ]
    },
    {
      "cell_type": "markdown",
      "metadata": {
        "id": "uFpGrBIRYalF"
      },
      "source": [
        "### File Copy"
      ]
    },
    {
      "cell_type": "code",
      "execution_count": null,
      "metadata": {
        "colab": {
          "base_uri": "https://localhost:8080/"
        },
        "id": "A0AJp7A1H4sk",
        "outputId": "8472bb5c-4081-4995-8b87-49f80520c711"
      },
      "outputs": [],
      "source": [
        "import os\n",
        "import shutil\n",
        "\n",
        "def copy_files(src_dir, dst_dir):\n",
        "    items = os.listdir(src_dir)\n",
        "    for item in items:\n",
        "        src_path = os.path.join(src_dir, item)\n",
        "        dst_path = os.path.join(dst_dir, item)\n",
        "        if os.path.isfile(src_path):\n",
        "            shutil.copy(src_path, dst_path)\n",
        "            print(f\"Files is copied from'{src_path}' to'{dst_path}'.\")\n",
        "\n",
        "source_folder = \"SOURCE_DIRECTORY_PATH\"\n",
        "target_folder = \"TARGET_DIRECTORY_PATH\"\n",
        "\n",
        "if not os.path.exists(target_folder):\n",
        "    os.makedirs(target_folder)\n",
        "\n",
        "copy_files(source_folder, target_folder)\n"
      ]
    },
    {
      "cell_type": "markdown",
      "metadata": {
        "id": "_QMkURidYfvG"
      },
      "source": [
        "### File Count\n"
      ]
    },
    {
      "cell_type": "code",
      "execution_count": null,
      "metadata": {
        "colab": {
          "base_uri": "https://localhost:8080/"
        },
        "id": "0j963VARYiyN",
        "outputId": "26882506-0fbd-4874-dc6a-e3338896fc06"
      },
      "outputs": [],
      "source": [
        "import os\n",
        "\n",
        "def count_files_and_pretty_print(directory, indent='  '):\n",
        "    for root, dirs, files in os.walk(directory):\n",
        "        level = root.replace(directory, '').count(os.sep)\n",
        "        indent = ' ' * 4 * (level)\n",
        "        print(f\"{indent}{os.path.basename(root)}/ - {len(files)} of files\")\n",
        "        indent += ' ' * 4\n",
        "        # for f in files:\n",
        "        #     print(f\"{indent}{f}\")\n",
        "\n",
        "directory_path = \"DIRECTORY_PATH\"\n",
        "print(f\"Directory '{directory_path}':\",\"\\n\")\n",
        "count_files_and_pretty_print(directory_path)\n"
      ]
    },
    {
      "cell_type": "markdown",
      "metadata": {
        "id": "LDuf6MfFH5pg"
      },
      "source": [
        "## Station ID Check"
      ]
    },
    {
      "cell_type": "code",
      "execution_count": 98,
      "metadata": {
        "colab": {
          "base_uri": "https://localhost:8080/"
        },
        "id": "PrXP0VfWH4qD",
        "outputId": "2802b257-6b9c-48d7-b771-17ae91f4a2ee"
      },
      "outputs": [
        {
          "name": "stdout",
          "output_type": "stream",
          "text": [
            "Station ID: GHCND:AQC00914000, Name: AASUFOU, US, Latitude: -14.31667, Longitude: -170.76667\n",
            "Station ID: GHCND:AQC00914005, Name: AFONO, US, Latitude: -14.26667, Longitude: -170.65\n",
            "Station ID: GHCND:AQC00914021, Name: AMOULI TUTUILA, US, Latitude: -14.26667, Longitude: -170.58333\n",
            "Station ID: GHCND:AQC00914060, Name: ATUU, US, Latitude: -14.26667, Longitude: -170.68333\n",
            "Station ID: GHCND:AQC00914135, Name: FAGA ALU RESERVOIR, US, Latitude: -14.3, Longitude: -170.7\n",
            "Station ID: GHCND:AQC00914138, Name: FAGA ALU STREAM, US, Latitude: -14.28333, Longitude: -170.68333\n",
            "Station ID: GHCND:AQC00914141, Name: FAGAITUA, US, Latitude: -14.26667, Longitude: -170.61667\n",
            "Station ID: GHCND:AQC00914145, Name: FAGASA TUTUILA, US, Latitude: -14.28333, Longitude: -170.71667\n",
            "Station ID: GHCND:AQC00914149, Name: FAGA TOGO, US, Latitude: -14.28333, Longitude: -170.68333\n",
            "Station ID: GHCND:AQC00914188, Name: FALEASAO TAU, US, Latitude: -14.22111, Longitude: -169.51305\n",
            "Station ID: GHCND:AQC00914248, Name: FALEASAO VILLAGE, US, Latitude: -14.221483, Longitude: -169.512897\n",
            "Station ID: GHCND:AQC00914397, Name: MALAELOA, US, Latitude: -14.33333, Longitude: -170.76667\n",
            "Station ID: GHCND:AQC00914594, Name: MALAELOA, US, Latitude: -14.33333, Longitude: -170.76667\n",
            "Station ID: GHCND:AQC00914650, Name: OFU, US, Latitude: -14.170658, Longitude: -169.678928\n",
            "Station ID: GHCND:AQC00914822, Name: SWAIN ISLAND, US, Latitude: -11.05, Longitude: -171.08333\n",
            "Station ID: GHCND:AQC00914869, Name: PAGO PAGO WEATHER SERVICE OFFICE AIRPORT, US, Latitude: -14.33056, Longitude: -170.71361\n",
            "Station ID: GHCND:AQC00914873, Name: MALAELOA, US, Latitude: -14.33333, Longitude: -170.76667\n",
            "Station ID: GHCND:AQC00914902, Name: VAIPITO, US, Latitude: -14.27278, Longitude: -170.69222\n",
            "Station ID: GHCND:AQC00914912, Name: VATIA, US, Latitude: -14.25, Longitude: -170.66667\n",
            "Station ID: GHCND:AQW00061705, Name: PAGO PAGO WEATHER SERVICE OFFICE AIRPORT, US, Latitude: -14.33056, Longitude: -170.71361\n",
            "Station ID: GHCND:CA001018611, Name: VICTORIA GONZALES CS, WA US, Latitude: 48.0333, Longitude: -123.3333\n",
            "Station ID: GHCND:CA001102420, Name: DELTA PEBBLE HILL, WA US, Latitude: 49, Longitude: -123.0833\n",
            "Station ID: GHCND:CA001103635, Name: HUNTINGDON METER STATION, WA US, Latitude: 49, Longitude: -122.2167\n",
            "Station ID: GHCND:CA001135126, Name: MIDWAY, WA US, Latitude: 49, Longitude: -118.7667\n",
            "Station ID: GHCND:CA001144230, Name: KINGSGATE, ID US, Latitude: 49, Longitude: -116.1833\n",
            "Station ID: GHCND:CA001146000, Name: PATERSON, WA US, Latitude: 49, Longitude: -117.8167\n",
            "Station ID: GHCND:CA004032335, Name: EAST POPLAR RIVER, US, Latitude: 49, Longitude: -105.4167\n",
            "Station ID: GHCND:CA004034912, Name: MANKOTA 2, MT US, Latitude: 49, Longitude: -106.95\n",
            "Station ID: GHCND:CA004038116, Name: TREELON, US, Latitude: 49, Longitude: -108.3833\n",
            "Station ID: GHCND:CA004038740, Name: WEST POPLAR RIVER, US, Latitude: 49, Longitude: -106.3833\n",
            "Station ID: GHCND:CA005020881, Name: EMERSON AUTO, ND US, Latitude: 49, Longitude: -97.2333\n",
            "Station ID: GHCND:CA005020882, Name: EMERSON AUT, ND US, Latitude: 49, Longitude: -97.2333\n",
            "Station ID: GHCND:CA006020559, Name: BARWICK, MN US, Latitude: 48.6333, Longitude: -93.9667\n",
            "Station ID: GHCND:CA00602FQ5L, Name: RAINY RIVER COOPER, MN US, Latitude: 48.7333, Longitude: -94.6167\n",
            "Station ID: GHCND:CA006057595, Name: SAULT STE M FORESTRY, MI US, Latitude: 46.5, Longitude: -84.3667\n",
            "Station ID: GHCND:CA006127520, Name: SARNIA POLYSAR, US, Latitude: 42.95, Longitude: -82.4333\n",
            "Station ID: GHCND:CA006135657, Name: NIAGARA FALLS NPCSH, US, Latitude: 43.1333, Longitude: -79.05\n",
            "Station ID: GHCND:CA006139533, Name: WINDSOR FORD PLANT, US, Latitude: 42.3333, Longitude: -83.0167\n",
            "Station ID: GHCND:CA008104936, Name: ST STEPHEN, ME US, Latitude: 45.1833, Longitude: -67.2667\n",
            "Station ID: GHCND:CQC00914080, Name: CAPITOL HILL 1, US, Latitude: 15.21553, Longitude: 145.75255\n",
            "Station ID: GHCND:CQC00914379, Name: KAGMAN COMM CENTER, US, Latitude: 15.18333, Longitude: 145.71667\n",
            "Station ID: GHCND:CQC00914800, Name: ROTA, US, Latitude: 14.13888, Longitude: 145.14805\n",
            "Station ID: GHCND:CQC00914801, Name: ROTA AIRPORT, US, Latitude: 14.1717, Longitude: 145.2428\n",
            "Station ID: GHCND:CQC00914855, Name: SAIPAN INTERNATIONAL AIRPORT, US, Latitude: 15.11667, Longitude: 145.71667\n",
            "Station ID: GHCND:CQC00914860, Name: SAIPAN LORAN, US, Latitude: 15.13333, Longitude: 145.7\n",
            "Station ID: GHCND:CQC00914861, Name: SAIPAN NUMBER 2, US, Latitude: 15.21667, Longitude: 145.73333\n",
            "Station ID: GHCND:CQC00914874, Name: TINIAN, US, Latitude: 15, Longitude: 145.63333\n",
            "Station ID: GHCND:CQW00041408, Name: SAIPAN MARSHALL ISLANDS, US, Latitude: 15.11667, Longitude: 145.7\n",
            "Station ID: GHCND:CQW00041412, Name: SAIPAN MARSHALL ISLANDS, US, Latitude: 15.21667, Longitude: 145.75\n",
            "Station ID: GHCND:CQW00041413, Name: TINIAN MARSHALL ISLA, US, Latitude: 15, Longitude: 145.63333\n",
            "Station ID: GHCND:GQ1GUGU0001, Name: DEDEDO 2.1 ENE, US, Latitude: 13.52963, Longitude: 144.864607\n",
            "Station ID: GHCND:GQ1GUGU0002, Name: INALAHAN BAY 0.8 ENE, US, Latitude: 13.279775, Longitude: 144.749\n",
            "Station ID: GHCND:GQ1GUGU0005, Name: INARAJAN TREATMENT PLANT, US, Latitude: 13.281144, Longitude: 144.75717\n",
            "Station ID: GHCND:GQ1GUGU0008, Name: NORTHERN PLANT, US, Latitude: 13.540565, Longitude: 144.816306\n",
            "Station ID: GHCND:GQ1GUGU0011, Name: SANTA RITA 0.4 NNW, US, Latitude: 13.392472, Longitude: 144.667114\n",
            "Station ID: GHCND:GQ1GUGU0012, Name: MONGMONG 0.7 ENE, US, Latitude: 13.47292, Longitude: 144.775\n",
            "Station ID: GHCND:GQ1GUGU0014, Name: SANTA RITA 2.3 N X RAY WHARF NBG, US, Latitude: 13.4211, Longitude: 144.670478\n",
            "Station ID: GHCND:GQC00914001, Name: AGAT, US, Latitude: 13.40388, Longitude: 144.672\n",
            "Station ID: GHCND:GQC00914025, Name: ANDERSEN AFB GUAM, US, Latitude: 13.57611, Longitude: 144.92806\n",
            "Station ID: GHCND:GQC00914120, Name: COCOS ISLAND GUAM, US, Latitude: 13.235, Longitude: 144.64555\n",
            "Station ID: GHCND:GQC00914156, Name: DEDEDO, US, Latitude: 13.5313, Longitude: 144.8608\n",
            "Station ID: GHCND:GQC00914193, Name: FENA FILTER PLANT, US, Latitude: 13.36667, Longitude: 144.7\n",
            "Station ID: GHCND:GQC00914260, Name: HUGHES FARM, US, Latitude: 13.36667, Longitude: 144.73333\n",
            "Station ID: GHCND:GQC00914275, Name: INARAJAN AG STATION, US, Latitude: 13.2853, Longitude: 144.7547\n",
            "Station ID: GHCND:GQC00914278, Name: INARAJAN NASA, US, Latitude: 13.3114, Longitude: 144.7364\n",
            "Station ID: GHCND:GQC00914468, Name: MANGILAO, US, Latitude: 13.45047, Longitude: 144.80094\n",
            "Station ID: GHCND:GQC00914727, Name: PIRATES COVE, US, Latitude: 13.3522, Longitude: 144.7669\n",
            "Station ID: GHCND:GQC00914827, Name: TALOFOFO, US, Latitude: 13.36472, Longitude: 144.73889\n",
            "Station ID: GHCND:GQC00914828, Name: TALOFOFO VILLAGE, US, Latitude: 13.35, Longitude: 144.75\n",
            "Station ID: GHCND:GQC00914885, Name: UMATAC, US, Latitude: 13.28333, Longitude: 144.66667\n",
            "Station ID: GHCND:GQC00914887, Name: UMATAC 1, US, Latitude: 13.28652, Longitude: 144.66268\n",
            "Station ID: GHCND:GQC00914910, Name: HUGHES FARM, US, Latitude: 13.36667, Longitude: 144.73333\n",
            "Station ID: GHCND:GQC00914950, Name: YIGO, US, Latitude: 13.5478, Longitude: 144.8928\n",
            "Station ID: GHCND:GQW00041405, Name: GUAM HARMON AFB, US, Latitude: 13.51667, Longitude: 144.81667\n",
            "Station ID: GHCND:GQW00041407, Name: GUAM MARSHALL ISLAND, US, Latitude: 13.435, Longitude: 144.639444\n",
            "Station ID: GHCND:GQW00041411, Name: GUAM OROTE, US, Latitude: 13.43388, Longitude: 144.65111\n",
            "Station ID: GHCND:GQW00041414, Name: GUAM MARSHALL ISLAND, US, Latitude: 13.58333, Longitude: 144.91667\n",
            "Station ID: GHCND:GQW00041415, Name: GUAM INTERNATIONAL AIRPORT, US, Latitude: 13.48333, Longitude: 144.8\n",
            "Station ID: GHCND:JQW00021601, Name: JOHNSTON ISLAND, US, Latitude: 16.73333, Longitude: -169.53333\n",
            "Station ID: GHCND:JQW00021602, Name: JOHNSTON ISLAND NAS, US, Latitude: 16.73333, Longitude: -169.53333\n",
            "Station ID: GHCND:JQW00021603, Name: JOHNSTON ISLAND, US, Latitude: 16.73333, Longitude: -169.53333\n",
            "Station ID: GHCND:JQW00021604, Name: JOHNSTON ISLAND AF FLT C, US, Latitude: 16.73333, Longitude: -169.53333\n",
            "Station ID: GHCND:MQW00022701, Name: MIDWAY ISLAND HENDERSON FIELD AIRPORT, US, Latitude: 28.2, Longitude: -177.38333\n",
            "Station ID: GHCND:MXN00002037, Name: PRESA MORELOS, AZ US, Latitude: 32.7, Longitude: -114.7167\n",
            "Station ID: GHCND:MXN00008023, Name: CORRALES U.G.R.CH., TX US, Latitude: 29.55, Longitude: -104.3833\n",
            "Station ID: GHCND:RQ1PRAB0001, Name: AGUAS BUENAS 2.4 W, US, Latitude: 18.2607597, Longitude: -66.1415523\n",
            "Station ID: GHCND:RQ1PRAC0001, Name: ARECIBO 5.2 ESE, US, Latitude: 18.441404, Longitude: -66.658861\n",
            "Station ID: GHCND:RQ1PRAC0002, Name: CUCHI 0.3 ENE, US, Latitude: 18.4070695460463, Longitude: -66.7602735757828\n",
            "Station ID: GHCND:RQ1PRAC0003, Name: SABANA HOYOS, US, Latitude: 18.368547, Longitude: -66.532581\n",
            "Station ID: GHCND:RQ1PRAL0002, Name: AGUADILLA 2.7 NNE, US, Latitude: 18.4774111078362, Longitude: -67.1437382698059\n",
            "Station ID: GHCND:RQ1PRAL0003, Name: AGUADILLA 5.5 NNE, US, Latitude: 18.50834, Longitude: -67.11241\n",
            "Station ID: GHCND:RQ1PRAL0005, Name: AGUADILLA 0.6 NE, US, Latitude: 18.446805, Longitude: -67.148808\n",
            "Station ID: GHCND:RQ1PRAN0002, Name: ANASCO 0.5 SSW, US, Latitude: 18.28153, Longitude: -67.14307\n",
            "Station ID: GHCND:RQ1PRBY0001, Name: FINCA LA LOMA, US, Latitude: 18.314833, Longitude: -66.155872\n",
            "Station ID: GHCND:RQ1PRBY0002, Name: BAYAMON 3.9 SSE, US, Latitude: 18.328599, Longitude: -66.144077\n",
            "Station ID: GHCND:RQ1PRCG0001, Name: CAGUAS 1.1 WSW, US, Latitude: 18.2272777, Longitude: -66.0543106\n",
            "Station ID: GHCND:RQ1PRCG0002, Name: CAGUAS 1.4 SW, US, Latitude: 18.222332, Longitude: -66.056716\n",
            "Station ID: GHCND:RQ1PRCG0003, Name: CAGUAS 2.2 NNW, US, Latitude: 18.26473, Longitude: -66.050128\n",
            "Station ID: GHCND:RQ1PRCL0001, Name: CAROLINA 1.5 SSW, US, Latitude: 18.3871233882721, Longitude: -65.9975928068161\n",
            "Station ID: GHCND:RQ1PRCL0006, Name: CAROLINA 1.7 NNW, US, Latitude: 18.431143, Longitude: -65.991773\n"
          ]
        }
      ],
      "source": [
        "import requests\n",
        "\n",
        "def search_noaa_stations(api_key, datasetid=\"GHCND\", locationid=\"FIPS:US\", limit=100):\n",
        "    url = \"https://www.ncdc.noaa.gov/cdo-web/api/v2/stations\"\n",
        "    headers = {\"token\": api_key}\n",
        "    params = {\n",
        "        \"datasetid\": datasetid,  # \"GHCND\" (Global Historical Climatology Network - Daily)\n",
        "        \"locationid\": locationid,  # \"FIPS:US\" (USA) (FIPS Code_ ex: \"CITY:US060013\" Los Angeles(LAX))\n",
        "        \"limit\": limit\n",
        "    }\n",
        "\n",
        "    response = requests.get(url, headers=headers, params=params)\n",
        "    stations = response.json()\n",
        "\n",
        "    for station in stations['results']:\n",
        "        print(f\"Station ID: {station['id']}, Name: {station['name']}, Latitude: {station['latitude']}, Longitude: {station['longitude']}\")\n",
        "\n",
        "# NOAA API Key\n",
        "api_key = \"YOUR_API_KEY_HERE\"\n",
        "\n",
        "search_noaa_stations(api_key)\n"
      ]
    },
    {
      "cell_type": "code",
      "execution_count": 104,
      "metadata": {
        "colab": {
          "base_uri": "https://localhost:8080/"
        },
        "id": "p8fLf5sRLQkJ",
        "outputId": "02401817-485f-4348-d87f-16c4c34b2f1b"
      },
      "outputs": [
        {
          "name": "stdout",
          "output_type": "stream",
          "text": [
            "Station ID: GHCND:US1CALA0001, Name: GLENDALE 2.4 WSW, CA US\n",
            "Station ID: GHCND:US1CALA0002, Name: WHITTIER 3.6 ESE, CA US\n",
            "Station ID: GHCND:US1CALA0003, Name: TORRANCE 2.8 SW, CA US\n",
            "Station ID: GHCND:US1CALA0005, Name: ALTADENA 0.7 ESE, CA US\n",
            "Station ID: GHCND:US1CALA0006, Name: SANTA MONICA 1.9 E, CA US\n",
            "Station ID: GHCND:US1CALA0007, Name: WOODLAND HILLS 2.6 WNW, CA US\n",
            "Station ID: GHCND:US1CALA0008, Name: MONTE NIDO 0.2 SSW, CA US\n",
            "Station ID: GHCND:US1CALA0009, Name: SHERMAN OAKS 1.7 ENE, CA US\n",
            "Station ID: GHCND:US1CALA0010, Name: WHITTIER 2.9 WNW, CA US\n",
            "Station ID: GHCND:US1CALA0011, Name: REDONDO BEACH 2.6 S, CA US\n"
          ]
        }
      ],
      "source": [
        "import requests\n",
        "\n",
        "def search_la_noaa_stations(api_key):\n",
        "    url = \"https://www.ncdc.noaa.gov/cdo-web/api/v2/stations\"\n",
        "    headers = {\"token\": api_key}\n",
        "    params = {\n",
        "        \"datasetid\": \"GHCND\",  # Global Historical Climatology Network - Daily dataset\n",
        "        \"locationid\": \"CITY:US060013\",  # LA FIPS Code\n",
        "        \"limit\": 10\n",
        "    }\n",
        "\n",
        "    response = requests.get(url, headers=headers, params=params)\n",
        "    stations = response.json()\n",
        "\n",
        "    for station in stations.get('results', []):\n",
        "        print(f\"Station ID: {station['id']}, Name: {station['name']}\")\n",
        "\n",
        "# api_key = \"YOUR_API_KEY_HERE\"\n",
        "search_la_noaa_stations(api_key)\n"
      ]
    },
    {
      "cell_type": "code",
      "execution_count": 106,
      "metadata": {
        "colab": {
          "base_uri": "https://localhost:8080/"
        },
        "id": "TOajogteO-_x",
        "outputId": "6bca8515-ef30-4370-d802-adfa0ef3933e"
      },
      "outputs": [
        {
          "name": "stdout",
          "output_type": "stream",
          "text": [
            "Station ID: GHCND:US1NYAB0001, Name: ALTAMONT 2.7 SSW, NY US\n",
            "Station ID: GHCND:US1NYAB0006, Name: SCHENECTADY 5.6 SSW, NY US\n",
            "Station ID: GHCND:US1NYAB0010, Name: RENSSELAERVILLE 2.1 NNW, NY US\n",
            "Station ID: GHCND:US1NYAB0016, Name: LATHAM 1.1 NNE, NY US\n",
            "Station ID: GHCND:US1NYAB0017, Name: ALBANY 0.7 E, NY US\n",
            "Station ID: GHCND:US1NYAB0021, Name: NWS ALBANY, NY US\n",
            "Station ID: GHCND:US1NYAB0022, Name: COLONIE 1.6 SE, NY US\n",
            "Station ID: GHCND:US1NYAB0023, Name: ALBANY 0.7 SW, NY US\n",
            "Station ID: GHCND:US1NYAB0025, Name: VOORHEESVILLE 2.0 NNE, NY US\n",
            "Station ID: GHCND:US1NYAB0028, Name: LATHAM 1.5 SSW, NY US\n"
          ]
        }
      ],
      "source": [
        "import requests\n",
        "\n",
        "def search_la_noaa_stations(api_key):\n",
        "    url = \"https://www.ncdc.noaa.gov/cdo-web/api/v2/stations\"\n",
        "    headers = {\"token\": api_key}\n",
        "    params = {\n",
        "        \"datasetid\": \"GHCND\",  # Global Historical Climatology Network - Daily dataset\n",
        "        \"locationid\": \"FIPS:36\",  # NewYork FIPS Code\n",
        "        \"limit\": 10\n",
        "    }\n",
        "\n",
        "    response = requests.get(url, headers=headers, params=params)\n",
        "    stations = response.json()\n",
        "\n",
        "    for station in stations.get('results', []):\n",
        "        print(f\"Station ID: {station['id']}, Name: {station['name']}\")\n",
        "\n",
        "# api_key = \"YOUR_API_KEY_HERE\"\n",
        "search_la_noaa_stations(api_key)\n"
      ]
    },
    {
      "cell_type": "code",
      "execution_count": 107,
      "metadata": {
        "colab": {
          "base_uri": "https://localhost:8080/"
        },
        "id": "uCOyqw-SPiqu",
        "outputId": "c0eb2946-3a19-40ba-c178-da284ddb9fff"
      },
      "outputs": [
        {
          "name": "stdout",
          "output_type": "stream",
          "text": [
            "{'elevation': 42.7, 'mindate': '1869-01-01', 'maxdate': '2024-02-19', 'latitude': 40.77898, 'name': 'NY CITY CENTRAL PARK, NY US', 'datacoverage': 1, 'id': 'GHCND:USW00094728', 'elevationUnit': 'METERS', 'longitude': -73.96925}\n"
          ]
        }
      ],
      "source": [
        "import requests\n",
        "\n",
        "def fetch_station_details(api_key, station_id):\n",
        "    url = f\"https://www.ncdc.noaa.gov/cdo-web/api/v2/stations/{station_id}\"\n",
        "    headers = {\"token\": api_key}\n",
        "\n",
        "    response = requests.get(url, headers=headers)\n",
        "    if response.status_code == 200:\n",
        "        station_details = response.json()\n",
        "        print(station_details)\n",
        "    else:\n",
        "        print(\"Failed to retrieve data:\", response.status_code)\n",
        "\n",
        "# api_key = \"YOUR_API_KEY_HERE\"  # Replace with your actual NOAA API key\n",
        "station_id = \"GHCND:USW00094728\"  # Ensure the station ID is prefixed correctly\n",
        "fetch_station_details(api_key, station_id)\n"
      ]
    },
    {
      "cell_type": "code",
      "execution_count": 170,
      "metadata": {
        "colab": {
          "base_uri": "https://localhost:8080/"
        },
        "id": "pimVM2LgVsFG",
        "outputId": "9896947a-e358-4111-f669-fcafb65fd9f1"
      },
      "outputs": [
        {
          "name": "stdout",
          "output_type": "stream",
          "text": [
            "{'elevation': 29.7, 'mindate': '1944-01-01', 'maxdate': '2024-02-20', 'latitude': 33.93816, 'name': 'LOS ANGELES INTERNATIONAL AIRPORT, CA US', 'datacoverage': 1, 'id': 'GHCND:USW00023174', 'elevationUnit': 'METERS', 'longitude': -118.3866}\n"
          ]
        }
      ],
      "source": [
        "import requests\n",
        "\n",
        "def fetch_station_details(api_key, station_id):\n",
        "    url = f\"https://www.ncdc.noaa.gov/cdo-web/api/v2/stations/{station_id}\"\n",
        "    headers = {\"token\": api_key}\n",
        "\n",
        "    response = requests.get(url, headers=headers)\n",
        "    if response.status_code == 200:\n",
        "        station_details = response.json()\n",
        "        print(station_details)\n",
        "    else:\n",
        "        print(\"Failed to retrieve data:\", response.status_code)\n",
        "\n",
        "# api_key = \"YOUR_API_KEY_HERE\"  # Replace with your actual NOAA API key\n",
        "station_id = \"GHCND:USW00023174\"  # Ensure the station ID is prefixed correctly\n",
        "fetch_station_details(api_key, station_id)\n"
      ]
    },
    {
      "cell_type": "markdown",
      "metadata": {
        "id": "vYXaEtYjRlv0"
      },
      "source": [
        "## Station Location Check"
      ]
    },
    {
      "cell_type": "code",
      "execution_count": 99,
      "metadata": {
        "colab": {
          "base_uri": "https://localhost:8080/"
        },
        "id": "YAOAWyp9JR8j",
        "outputId": "14192171-3ea1-46e9-866c-50431f911b7b"
      },
      "outputs": [
        {
          "name": "stdout",
          "output_type": "stream",
          "text": [
            "Requirement already satisfied: folium in /usr/local/lib/python3.10/dist-packages (0.14.0)\n",
            "Requirement already satisfied: branca>=0.6.0 in /usr/local/lib/python3.10/dist-packages (from folium) (0.7.1)\n",
            "Requirement already satisfied: jinja2>=2.9 in /usr/local/lib/python3.10/dist-packages (from folium) (3.1.3)\n",
            "Requirement already satisfied: numpy in /usr/local/lib/python3.10/dist-packages (from folium) (1.25.2)\n",
            "Requirement already satisfied: requests in /usr/local/lib/python3.10/dist-packages (from folium) (2.31.0)\n",
            "Requirement already satisfied: MarkupSafe>=2.0 in /usr/local/lib/python3.10/dist-packages (from jinja2>=2.9->folium) (2.1.5)\n",
            "Requirement already satisfied: charset-normalizer<4,>=2 in /usr/local/lib/python3.10/dist-packages (from requests->folium) (3.3.2)\n",
            "Requirement already satisfied: idna<4,>=2.5 in /usr/local/lib/python3.10/dist-packages (from requests->folium) (3.6)\n",
            "Requirement already satisfied: urllib3<3,>=1.21.1 in /usr/local/lib/python3.10/dist-packages (from requests->folium) (2.0.7)\n",
            "Requirement already satisfied: certifi>=2017.4.17 in /usr/local/lib/python3.10/dist-packages (from requests->folium) (2024.2.2)\n"
          ]
        }
      ],
      "source": [
        "!python -m pip install folium"
      ]
    },
    {
      "cell_type": "code",
      "execution_count": 111,
      "metadata": {
        "colab": {
          "base_uri": "https://localhost:8080/",
          "height": 580
        },
        "id": "pICQWvmsH4jr",
        "outputId": "b79c5f73-8fa1-467a-feba-e94e13e9ed18"
      },
      "outputs": [
        {
          "data": {
            "text/html": [
              "<div style=\"width:100%;\"><div style=\"position:relative;width:100%;height:0;padding-bottom:60%;\"><span style=\"color:#565656\">Make this Notebook Trusted to load map: File -> Trust Notebook</span><iframe srcdoc=\"&lt;!DOCTYPE html&gt;\n",
              "&lt;html&gt;\n",
              "&lt;head&gt;\n",
              "    \n",
              "    &lt;meta http-equiv=&quot;content-type&quot; content=&quot;text/html; charset=UTF-8&quot; /&gt;\n",
              "    \n",
              "        &lt;script&gt;\n",
              "            L_NO_TOUCH = false;\n",
              "            L_DISABLE_3D = false;\n",
              "        &lt;/script&gt;\n",
              "    \n",
              "    &lt;style&gt;html, body {width: 100%;height: 100%;margin: 0;padding: 0;}&lt;/style&gt;\n",
              "    &lt;style&gt;#map {position:absolute;top:0;bottom:0;right:0;left:0;}&lt;/style&gt;\n",
              "    &lt;script src=&quot;https://cdn.jsdelivr.net/npm/leaflet@1.9.3/dist/leaflet.js&quot;&gt;&lt;/script&gt;\n",
              "    &lt;script src=&quot;https://code.jquery.com/jquery-1.12.4.min.js&quot;&gt;&lt;/script&gt;\n",
              "    &lt;script src=&quot;https://cdn.jsdelivr.net/npm/bootstrap@5.2.2/dist/js/bootstrap.bundle.min.js&quot;&gt;&lt;/script&gt;\n",
              "    &lt;script src=&quot;https://cdnjs.cloudflare.com/ajax/libs/Leaflet.awesome-markers/2.0.2/leaflet.awesome-markers.js&quot;&gt;&lt;/script&gt;\n",
              "    &lt;link rel=&quot;stylesheet&quot; href=&quot;https://cdn.jsdelivr.net/npm/leaflet@1.9.3/dist/leaflet.css&quot;/&gt;\n",
              "    &lt;link rel=&quot;stylesheet&quot; href=&quot;https://cdn.jsdelivr.net/npm/bootstrap@5.2.2/dist/css/bootstrap.min.css&quot;/&gt;\n",
              "    &lt;link rel=&quot;stylesheet&quot; href=&quot;https://netdna.bootstrapcdn.com/bootstrap/3.0.0/css/bootstrap.min.css&quot;/&gt;\n",
              "    &lt;link rel=&quot;stylesheet&quot; href=&quot;https://cdn.jsdelivr.net/npm/@fortawesome/fontawesome-free@6.2.0/css/all.min.css&quot;/&gt;\n",
              "    &lt;link rel=&quot;stylesheet&quot; href=&quot;https://cdnjs.cloudflare.com/ajax/libs/Leaflet.awesome-markers/2.0.2/leaflet.awesome-markers.css&quot;/&gt;\n",
              "    &lt;link rel=&quot;stylesheet&quot; href=&quot;https://cdn.jsdelivr.net/gh/python-visualization/folium/folium/templates/leaflet.awesome.rotate.min.css&quot;/&gt;\n",
              "    \n",
              "            &lt;meta name=&quot;viewport&quot; content=&quot;width=device-width,\n",
              "                initial-scale=1.0, maximum-scale=1.0, user-scalable=no&quot; /&gt;\n",
              "            &lt;style&gt;\n",
              "                #map_31ebd579565f7413ef29fed76a17427e {\n",
              "                    position: relative;\n",
              "                    width: 100.0%;\n",
              "                    height: 100.0%;\n",
              "                    left: 0.0%;\n",
              "                    top: 0.0%;\n",
              "                }\n",
              "                .leaflet-container { font-size: 1rem; }\n",
              "            &lt;/style&gt;\n",
              "        \n",
              "&lt;/head&gt;\n",
              "&lt;body&gt;\n",
              "    \n",
              "    \n",
              "            &lt;div class=&quot;folium-map&quot; id=&quot;map_31ebd579565f7413ef29fed76a17427e&quot; &gt;&lt;/div&gt;\n",
              "        \n",
              "&lt;/body&gt;\n",
              "&lt;script&gt;\n",
              "    \n",
              "    \n",
              "            var map_31ebd579565f7413ef29fed76a17427e = L.map(\n",
              "                &quot;map_31ebd579565f7413ef29fed76a17427e&quot;,\n",
              "                {\n",
              "                    center: [34.0239, -118.2919],\n",
              "                    crs: L.CRS.EPSG3857,\n",
              "                    zoom: 5,\n",
              "                    zoomControl: true,\n",
              "                    preferCanvas: false,\n",
              "                }\n",
              "            );\n",
              "\n",
              "            \n",
              "\n",
              "        \n",
              "    \n",
              "            var tile_layer_85aeadfa158354dc6b5f7949d6cfe208 = L.tileLayer(\n",
              "                &quot;https://{s}.tile.openstreetmap.org/{z}/{x}/{y}.png&quot;,\n",
              "                {&quot;attribution&quot;: &quot;Data by \\u0026copy; \\u003ca target=\\&quot;_blank\\&quot; href=\\&quot;http://openstreetmap.org\\&quot;\\u003eOpenStreetMap\\u003c/a\\u003e, under \\u003ca target=\\&quot;_blank\\&quot; href=\\&quot;http://www.openstreetmap.org/copyright\\&quot;\\u003eODbL\\u003c/a\\u003e.&quot;, &quot;detectRetina&quot;: false, &quot;maxNativeZoom&quot;: 18, &quot;maxZoom&quot;: 18, &quot;minZoom&quot;: 0, &quot;noWrap&quot;: false, &quot;opacity&quot;: 1, &quot;subdomains&quot;: &quot;abc&quot;, &quot;tms&quot;: false}\n",
              "            ).addTo(map_31ebd579565f7413ef29fed76a17427e);\n",
              "        \n",
              "    \n",
              "            var marker_7224f6d9d983e8bc8e4c7f4ca8e495bd = L.marker(\n",
              "                [34.0239, -118.2919],\n",
              "                {}\n",
              "            ).addTo(map_31ebd579565f7413ef29fed76a17427e);\n",
              "        \n",
              "    \n",
              "        var popup_05fe36af4349eb5bad9f32012c11c919 = L.popup({&quot;maxWidth&quot;: &quot;100%&quot;});\n",
              "\n",
              "        \n",
              "            \n",
              "                var html_41b3cac498200ebac8f2790fa50b5484 = $(`&lt;div id=&quot;html_41b3cac498200ebac8f2790fa50b5484&quot; style=&quot;width: 100.0%; height: 100.0%;&quot;&gt;LOS ANGELES DOWNTOWN USC, US&lt;/div&gt;`)[0];\n",
              "                popup_05fe36af4349eb5bad9f32012c11c919.setContent(html_41b3cac498200ebac8f2790fa50b5484);\n",
              "            \n",
              "        \n",
              "\n",
              "        marker_7224f6d9d983e8bc8e4c7f4ca8e495bd.bindPopup(popup_05fe36af4349eb5bad9f32012c11c919)\n",
              "        ;\n",
              "\n",
              "        \n",
              "    \n",
              "    \n",
              "            var marker_e2d865e6d37e870a403d65b4dd1a2d16 = L.marker(\n",
              "                [33.9425, -118.4081],\n",
              "                {}\n",
              "            ).addTo(map_31ebd579565f7413ef29fed76a17427e);\n",
              "        \n",
              "    \n",
              "        var popup_df683875eded6bb3e4d84d584b6f24fa = L.popup({&quot;maxWidth&quot;: &quot;100%&quot;});\n",
              "\n",
              "        \n",
              "            \n",
              "                var html_76c584fd1c1af44ce57fa121f14a523e = $(`&lt;div id=&quot;html_76c584fd1c1af44ce57fa121f14a523e&quot; style=&quot;width: 100.0%; height: 100.0%;&quot;&gt;LOS ANGELES INTERNATIONAL AIRPORT, US&lt;/div&gt;`)[0];\n",
              "                popup_df683875eded6bb3e4d84d584b6f24fa.setContent(html_76c584fd1c1af44ce57fa121f14a523e);\n",
              "            \n",
              "        \n",
              "\n",
              "        marker_e2d865e6d37e870a403d65b4dd1a2d16.bindPopup(popup_df683875eded6bb3e4d84d584b6f24fa)\n",
              "        ;\n",
              "\n",
              "        \n",
              "    \n",
              "    \n",
              "            var marker_066c52c792e0d31a919a885064b311ec = L.marker(\n",
              "                [33.8177, -118.1516],\n",
              "                {}\n",
              "            ).addTo(map_31ebd579565f7413ef29fed76a17427e);\n",
              "        \n",
              "    \n",
              "        var popup_4bb73a8a38f632302c9c5e7023b8593f = L.popup({&quot;maxWidth&quot;: &quot;100%&quot;});\n",
              "\n",
              "        \n",
              "            \n",
              "                var html_9645b94d0008c03491bcf5ef1ebc426b = $(`&lt;div id=&quot;html_9645b94d0008c03491bcf5ef1ebc426b&quot; style=&quot;width: 100.0%; height: 100.0%;&quot;&gt;LONG BEACH AIRPORT, US&lt;/div&gt;`)[0];\n",
              "                popup_4bb73a8a38f632302c9c5e7023b8593f.setContent(html_9645b94d0008c03491bcf5ef1ebc426b);\n",
              "            \n",
              "        \n",
              "\n",
              "        marker_066c52c792e0d31a919a885064b311ec.bindPopup(popup_4bb73a8a38f632302c9c5e7023b8593f)\n",
              "        ;\n",
              "\n",
              "        \n",
              "    \n",
              "    \n",
              "            var marker_9034c580a1867babdf873b5c6c709e47 = L.marker(\n",
              "                [34.2098, -118.4896],\n",
              "                {}\n",
              "            ).addTo(map_31ebd579565f7413ef29fed76a17427e);\n",
              "        \n",
              "    \n",
              "        var popup_5f13307e32f1135eab240ae9efcbf9ba = L.popup({&quot;maxWidth&quot;: &quot;100%&quot;});\n",
              "\n",
              "        \n",
              "            \n",
              "                var html_1528b4cf6e82ecf0636d0a57a2195f47 = $(`&lt;div id=&quot;html_1528b4cf6e82ecf0636d0a57a2195f47&quot; style=&quot;width: 100.0%; height: 100.0%;&quot;&gt;VAN NUYS AIRPORT, US&lt;/div&gt;`)[0];\n",
              "                popup_5f13307e32f1135eab240ae9efcbf9ba.setContent(html_1528b4cf6e82ecf0636d0a57a2195f47);\n",
              "            \n",
              "        \n",
              "\n",
              "        marker_9034c580a1867babdf873b5c6c709e47.bindPopup(popup_5f13307e32f1135eab240ae9efcbf9ba)\n",
              "        ;\n",
              "\n",
              "        \n",
              "    \n",
              "    \n",
              "            var marker_81f8637befb58e4459712f44c2ebc206 = L.marker(\n",
              "                [34.1478, -118.1445],\n",
              "                {}\n",
              "            ).addTo(map_31ebd579565f7413ef29fed76a17427e);\n",
              "        \n",
              "    \n",
              "        var popup_4333f3cae4fea48f3385da3d587ac89c = L.popup({&quot;maxWidth&quot;: &quot;100%&quot;});\n",
              "\n",
              "        \n",
              "            \n",
              "                var html_2f901bb6e54fce04bd9c2ef83cfa08e2 = $(`&lt;div id=&quot;html_2f901bb6e54fce04bd9c2ef83cfa08e2&quot; style=&quot;width: 100.0%; height: 100.0%;&quot;&gt;PASADENA, US&lt;/div&gt;`)[0];\n",
              "                popup_4333f3cae4fea48f3385da3d587ac89c.setContent(html_2f901bb6e54fce04bd9c2ef83cfa08e2);\n",
              "            \n",
              "        \n",
              "\n",
              "        marker_81f8637befb58e4459712f44c2ebc206.bindPopup(popup_4333f3cae4fea48f3385da3d587ac89c)\n",
              "        ;\n",
              "\n",
              "        \n",
              "    \n",
              "    \n",
              "            var marker_a4606411dd09e4eb131c644cacd6a94f = L.marker(\n",
              "                [40.77898, -73.96925],\n",
              "                {}\n",
              "            ).addTo(map_31ebd579565f7413ef29fed76a17427e);\n",
              "        \n",
              "    \n",
              "        var popup_7db3a4350c38e63597f4fa53ba1e9987 = L.popup({&quot;maxWidth&quot;: &quot;100%&quot;});\n",
              "\n",
              "        \n",
              "            \n",
              "                var html_35dd0bc3aa82971ef645b49b4b1d738d = $(`&lt;div id=&quot;html_35dd0bc3aa82971ef645b49b4b1d738d&quot; style=&quot;width: 100.0%; height: 100.0%;&quot;&gt;CENTRAL PARK, US&lt;/div&gt;`)[0];\n",
              "                popup_7db3a4350c38e63597f4fa53ba1e9987.setContent(html_35dd0bc3aa82971ef645b49b4b1d738d);\n",
              "            \n",
              "        \n",
              "\n",
              "        marker_a4606411dd09e4eb131c644cacd6a94f.bindPopup(popup_7db3a4350c38e63597f4fa53ba1e9987)\n",
              "        ;\n",
              "\n",
              "        \n",
              "    \n",
              "    \n",
              "            var marker_e6e5d52047c8a1565350eb029fb94e38 = L.marker(\n",
              "                [40.7769, -73.874],\n",
              "                {}\n",
              "            ).addTo(map_31ebd579565f7413ef29fed76a17427e);\n",
              "        \n",
              "    \n",
              "        var popup_8099dc37bf2b9906b604a01b472f93c8 = L.popup({&quot;maxWidth&quot;: &quot;100%&quot;});\n",
              "\n",
              "        \n",
              "            \n",
              "                var html_1733877f51f6fac72284098b3be4a08f = $(`&lt;div id=&quot;html_1733877f51f6fac72284098b3be4a08f&quot; style=&quot;width: 100.0%; height: 100.0%;&quot;&gt;LA GUARDIA AIRPORT, US&lt;/div&gt;`)[0];\n",
              "                popup_8099dc37bf2b9906b604a01b472f93c8.setContent(html_1733877f51f6fac72284098b3be4a08f);\n",
              "            \n",
              "        \n",
              "\n",
              "        marker_e6e5d52047c8a1565350eb029fb94e38.bindPopup(popup_8099dc37bf2b9906b604a01b472f93c8)\n",
              "        ;\n",
              "\n",
              "        \n",
              "    \n",
              "    \n",
              "            var marker_a429cbf7892155fdfb10b8e533f64e48 = L.marker(\n",
              "                [40.6413, -73.7781],\n",
              "                {}\n",
              "            ).addTo(map_31ebd579565f7413ef29fed76a17427e);\n",
              "        \n",
              "    \n",
              "        var popup_aea1551653593f2349e541cb848e1523 = L.popup({&quot;maxWidth&quot;: &quot;100%&quot;});\n",
              "\n",
              "        \n",
              "            \n",
              "                var html_8b75760af040d720a4d691bff0da1beb = $(`&lt;div id=&quot;html_8b75760af040d720a4d691bff0da1beb&quot; style=&quot;width: 100.0%; height: 100.0%;&quot;&gt;JFK INTERNATIONAL AIRPORT, US&lt;/div&gt;`)[0];\n",
              "                popup_aea1551653593f2349e541cb848e1523.setContent(html_8b75760af040d720a4d691bff0da1beb);\n",
              "            \n",
              "        \n",
              "\n",
              "        marker_a429cbf7892155fdfb10b8e533f64e48.bindPopup(popup_aea1551653593f2349e541cb848e1523)\n",
              "        ;\n",
              "\n",
              "        \n",
              "    \n",
              "    \n",
              "            var marker_82491bec464c1bd8a96c01cfb82e0d67 = L.marker(\n",
              "                [42.7472, -73.8017],\n",
              "                {}\n",
              "            ).addTo(map_31ebd579565f7413ef29fed76a17427e);\n",
              "        \n",
              "    \n",
              "        var popup_84fc05d6191f7e826bba676e25395ab0 = L.popup({&quot;maxWidth&quot;: &quot;100%&quot;});\n",
              "\n",
              "        \n",
              "            \n",
              "                var html_e351023b2c445316cd72a4e309e768d8 = $(`&lt;div id=&quot;html_e351023b2c445316cd72a4e309e768d8&quot; style=&quot;width: 100.0%; height: 100.0%;&quot;&gt;ALBANY INTERNATIONAL AIRPORT, US&lt;/div&gt;`)[0];\n",
              "                popup_84fc05d6191f7e826bba676e25395ab0.setContent(html_e351023b2c445316cd72a4e309e768d8);\n",
              "            \n",
              "        \n",
              "\n",
              "        marker_82491bec464c1bd8a96c01cfb82e0d67.bindPopup(popup_84fc05d6191f7e826bba676e25395ab0)\n",
              "        ;\n",
              "\n",
              "        \n",
              "    \n",
              "    \n",
              "            var marker_fe73e5bddfd22cea2fc3dbbbf5d983a2 = L.marker(\n",
              "                [42.9405, -78.7322],\n",
              "                {}\n",
              "            ).addTo(map_31ebd579565f7413ef29fed76a17427e);\n",
              "        \n",
              "    \n",
              "        var popup_98ef79bfdff71aa9cbcbe04d9b78f9a2 = L.popup({&quot;maxWidth&quot;: &quot;100%&quot;});\n",
              "\n",
              "        \n",
              "            \n",
              "                var html_db8c5e3ed8d50af7ec75fc55e7acd75f = $(`&lt;div id=&quot;html_db8c5e3ed8d50af7ec75fc55e7acd75f&quot; style=&quot;width: 100.0%; height: 100.0%;&quot;&gt;BUFFALO NIAGARA INTERNATIONAL AIRPORT, US&lt;/div&gt;`)[0];\n",
              "                popup_98ef79bfdff71aa9cbcbe04d9b78f9a2.setContent(html_db8c5e3ed8d50af7ec75fc55e7acd75f);\n",
              "            \n",
              "        \n",
              "\n",
              "        marker_fe73e5bddfd22cea2fc3dbbbf5d983a2.bindPopup(popup_98ef79bfdff71aa9cbcbe04d9b78f9a2)\n",
              "        ;\n",
              "\n",
              "        \n",
              "    \n",
              "&lt;/script&gt;\n",
              "&lt;/html&gt;\" style=\"position:absolute;width:100%;height:100%;left:0;top:0;border:none !important;\" allowfullscreen webkitallowfullscreen mozallowfullscreen></iframe></div></div>"
            ],
            "text/plain": [
              "<folium.folium.Map at 0x7b1bdbd1d240>"
            ]
          },
          "execution_count": 111,
          "metadata": {},
          "output_type": "execute_result"
        }
      ],
      "source": [
        "import folium\n",
        "\n",
        "# stations = [\n",
        "#     {\"name\": \"AASUFOU, US\", \"lat\": -14.31667, \"lon\": -170.76667},\n",
        "#     {\"name\": \"AFONO, US\", \"lat\": -14.26667, \"lon\": -170.65},\n",
        "#     {\"name\": \"AMOULI TUTUILA, US\", \"lat\": -14.26667, \"lon\": -170.58333},\n",
        "#     {\"name\": \"ATUU, US\", \"lat\": -14.26667, \"lon\": -170.68333},\n",
        "#     {\"name\": \"FAGA ALU RESERVOIR, US\", \"lat\": -14.3, \"lon\": -170.7},\n",
        "#     {\"name\": \"FAGA ALU STREAM, US\", \"lat\": -14.28333, \"lon\": -170.68333},\n",
        "#     {\"name\": \"FAGAITUA, US\", \"lat\": -14.26667, \"lon\": -170.61667},\n",
        "#     {\"name\": \"FAGASA TUTUILA, US\", \"lat\": -14.28333, \"lon\": -170.71667},\n",
        "#     {\"name\": \"FAGA TOGO, US\", \"lat\": -14.28333, \"lon\": -170.68333},\n",
        "#     {\"name\": \"FALEASAO TAU, US\", \"lat\": -14.22111, \"lon\": -169.51305},\n",
        "#     {\"name\": \"FALEASAO VILLAGE, US\", \"lat\": -14.221483, \"lon\": -169.512897},\n",
        "#     {\"name\": \"MALAELOA, US\", \"lat\": -14.33333, \"lon\": -170.76667},\n",
        "#     {\"name\": \"GUAM INTERNATIONAL AIRPORT, US\", \"lat\": 13.48333, \"lon\": 144.8},\n",
        "#     {\"name\": \"JOHNSTON ISLAND, US\", \"lat\": 16.73333, \"lon\": -169.53333},\n",
        "#     {\"name\": \"MIDWAY ISLAND HENDERSON FIELD AIRPORT, US\", \"lat\": 28.2, \"lon\": -177.38333}\n",
        "# ]\n",
        "###### WGS 84\n",
        "stations = [\n",
        "    # Los Angeles Stations\n",
        "    {\"station_id\": \"GHCND:USW00023174\", \"name\": \"LOS ANGELES DOWNTOWN USC, US\", \"lat\": 34.0239, \"lon\": -118.2919},\n",
        "    {\"station_id\": \"GHCND:USW00023188\", \"name\": \"LOS ANGELES INTERNATIONAL AIRPORT, US\", \"lat\": 33.9425, \"lon\": -118.4081},\n",
        "    {\"station_id\": \"GHCND:USW00023129\", \"name\": \"LONG BEACH AIRPORT, US\", \"lat\": 33.8177, \"lon\": -118.1516},\n",
        "    {\"station_id\": \"GHCND:USW00023152\", \"name\": \"VAN NUYS AIRPORT, US\", \"lat\": 34.2098, \"lon\": -118.4896},\n",
        "    {\"station_id\": \"GHCND:USC00026614\", \"name\": \"PASADENA, US\", \"lat\": 34.1478, \"lon\": -118.1445},\n",
        "    # New York Stations\n",
        "    {\"station_id\": \"GHCND:USW00094728\", \"name\": \"CENTRAL PARK, US\", \"lat\": 40.77898, \"lon\": -73.96925},\n",
        "    {\"station_id\": \"GHCND:USW00014732\", \"name\": \"LA GUARDIA AIRPORT, US\", \"lat\": 40.7769, \"lon\": -73.8740},\n",
        "    {\"station_id\": \"GHCND:USW00094789\", \"name\": \"JFK INTERNATIONAL AIRPORT, US\", \"lat\": 40.6413, \"lon\": -73.7781},\n",
        "    {\"station_id\": \"GHCND:USW00014735\", \"name\": \"ALBANY INTERNATIONAL AIRPORT, US\", \"lat\": 42.7472, \"lon\": -73.8017},\n",
        "    {\"station_id\": \"GHCND:USW00014733\", \"name\": \"BUFFALO NIAGARA INTERNATIONAL AIRPORT, US\", \"lat\": 42.9405, \"lon\": -78.7322},\n",
        "]\n",
        "\n",
        "map = folium.Map(location=[34.0239, -118.2919], zoom_start=5)\n",
        "\n",
        "for station in stations:\n",
        "    folium.Marker(\n",
        "        [station[\"lat\"], station[\"lon\"]],\n",
        "        popup=station[\"name\"],\n",
        "    ).add_to(map)\n",
        "\n",
        "map\n"
      ]
    }
  ],
  "metadata": {
    "colab": {
      "collapsed_sections": [
        "LDuf6MfFH5pg",
        "vYXaEtYjRlv0",
        "9gY4QUz8Dojj"
      ],
      "provenance": []
    },
    "kernelspec": {
      "display_name": "Python 3",
      "name": "python3"
    },
    "language_info": {
      "name": "python"
    }
  },
  "nbformat": 4,
  "nbformat_minor": 0
}
